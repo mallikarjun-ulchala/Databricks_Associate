{
 "cells": [
  {
   "cell_type": "code",
   "execution_count": 0,
   "metadata": {
    "application/vnd.databricks.v1+cell": {
     "cellMetadata": {},
     "inputWidgets": {},
     "nuid": "a009a498-5d8d-4afb-a640-1720a36f1cff",
     "showTitle": false,
     "tableResultSettingsMap": {},
     "title": ""
    }
   },
   "outputs": [],
   "source": [
    "-- Create schema inside your catalog\n",
    "CREATE SCHEMA IF NOT EXISTS sales.dbo;\n",
    "\n",
    "-- Set current catalog and schema context\n",
    "USE CATALOG sales;\n",
    "USE SCHEMA dbo;\n",
    "\n",
    "-- Create products table\n",
    "CREATE OR REPLACE TABLE sales.dbo.products (\n",
    "  product_id INT,\n",
    "  category STRING,\n",
    "  product_name STRING\n",
    ") USING DELTA;\n",
    "\n",
    "-- Create sales_data table\n",
    "CREATE OR REPLACE TABLE sales.dbo.sales_data (\n",
    "  sale_id INT,\n",
    "  product_id INT,\n",
    "  sale_date DATE,\n",
    "  quantity INT,\n",
    "  unit_price DOUBLE\n",
    ") USING DELTA;\n",
    "\n",
    "-- Create or replace view with logic\n",
    "CREATE OR REPLACE VIEW sales.dbo.sales_summary_view AS\n",
    "SELECT\n",
    "  DATE_TRUNC('month', s.sale_date) AS sale_month,\n",
    "  p.category,\n",
    "  SUM(s.quantity) AS total_quantity_sold,\n",
    "  SUM(s.quantity * s.unit_price) AS total_revenue\n",
    "FROM sales_data s\n",
    "JOIN products p ON s.product_id = p.product_id\n",
    "WHERE s.quantity > 0 AND s.unit_price > 0\n",
    "AND s.sale_date >= DATEADD(day, -30, current_date())\n",
    "GROUP BY DATE_TRUNC('month', s.sale_date), p.category;\n",
    "\n",
    "-- Create target table if not exists\n",
    "CREATE TABLE IF NOT EXISTS sales.dbo.monthly_sales_summary (\n",
    "  sale_month DATE,\n",
    "  category STRING,\n",
    "  total_quantity_sold BIGINT,\n",
    "  total_revenue DOUBLE\n",
    ") USING DELTA;\n",
    "\n",
    "-- Incremental merge (upsert)\n",
    "MERGE INTO sales.dbo.monthly_sales_summary AS target\n",
    "USING sales.dbo.sales_summary_view AS source\n",
    "ON target.sale_month = source.sale_month AND target.category = source.category\n",
    "WHEN MATCHED THEN UPDATE SET\n",
    "  target.total_quantity_sold = source.total_quantity_sold,\n",
    "  target.total_revenue = source.total_revenue\n",
    "WHEN NOT MATCHED THEN INSERT (\n",
    "  sale_month, category, total_quantity_sold, total_revenue\n",
    ") VALUES (\n",
    "  source.sale_month, source.category, source.total_quantity_sold, source.total_revenue\n",
    ");\n",
    "\n",
    "\n"
   ]
  }
 ],
 "metadata": {
  "application/vnd.databricks.v1+notebook": {
   "computePreferences": null,
   "dashboards": [],
   "environmentMetadata": null,
   "inputWidgetPreferences": null,
   "language": "sql",
   "notebookMetadata": {
    "pythonIndentUnit": 4,
    "sqlQueryOptions": {
     "applyAutoLimit": true,
     "catalog": "sales",
     "schema": "dbo"
    }
   },
   "notebookName": "Sales_ETL_Job.dbquery.ipynb",
   "widgets": {}
  },
  "language_info": {
   "name": "sql"
  }
 },
 "nbformat": 4,
 "nbformat_minor": 0
}
